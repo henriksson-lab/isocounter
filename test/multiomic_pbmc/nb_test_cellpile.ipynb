{
 "cells": [
  {
   "cell_type": "code",
   "execution_count": 1,
   "metadata": {},
   "outputs": [],
   "source": [
    "import numpy as np\n",
    "import scipy\n",
    "import pandas as pd\n",
    "import anndata\n",
    "import scanpy as sc\n",
    "import scipy.io\n",
    "import matplotlib\n",
    "from matplotlib.backends.backend_pdf import PdfPages\n",
    "import matplotlib.pyplot as plt\n",
    "import os\n",
    "%matplotlib inline"
   ]
  },
  {
   "cell_type": "code",
   "execution_count": 2,
   "metadata": {},
   "outputs": [],
   "source": [
    "plt.rcParams['font.family'] = 'sans-serif'\n",
    "plt.rcParams['font.sans-serif'] = 'Arial'\n",
    "plt.rc('font', size=12)\n",
    "plt.rcParams['pdf.fonttype'] = 42\n",
    "plt.rcParams[\"image.cmap\"] = 'viridis_r'\n",
    "\n",
    "sc.settings.verbosity = 3             # verbosity: errors (0), warnings (1), info (2), hints (3)\n",
    "# sc.logging.print_versions()\n",
    "# sc.settings.set_figure_params(dpi=80, facecolor='white')"
   ]
  },
  {
   "cell_type": "code",
   "execution_count": 3,
   "metadata": {},
   "outputs": [
    {
     "name": "stdout",
     "output_type": "stream",
     "text": [
      "normalizing counts per cell\n",
      "    finished (0:00:00)\n"
     ]
    }
   ],
   "source": [
    "#########################\n",
    "######################### Read the data (pre-annotated) ... or will be\n",
    "#########################\n",
    "\n",
    "adata = sc.read_h5ad(\"reduced/10x_gex.h5ad\")\n",
    "\n",
    "adata.var_names_make_unique()\n",
    "adata.obs[\"sampleid\"] = \"sample1\"\n",
    "\n",
    "# annotate the group of mitochondrial genes as 'mt'\n",
    "adata.var['mt'] = adata.var[\"gene_names\"].str.startswith('MT-')  \n",
    "sc.pp.calculate_qc_metrics(adata, qc_vars=['mt'], percent_top=None, inplace=True)\n",
    "\n",
    "# Normalize the counts\n",
    "sc.pp.normalize_total(adata, target_sum=1e6)    \n",
    "\n",
    "# Move to log counts\n",
    "sc.pp.log1p(adata) \n",
    "\n",
    "### Store what we have now, somewhat raw (CPM-normalized and pseudo-log)\n",
    "adata.raw=adata"
   ]
  },
  {
   "cell_type": "code",
   "execution_count": 4,
   "metadata": {
    "scrolled": true
   },
   "outputs": [
    {
     "name": "stdout",
     "output_type": "stream",
     "text": [
      "extracting highly variable genes\n"
     ]
    },
    {
     "name": "stderr",
     "output_type": "stream",
     "text": [
      "... storing 'sampleid' as categorical\n"
     ]
    },
    {
     "name": "stdout",
     "output_type": "stream",
     "text": [
      "    finished (0:00:01)\n",
      "--> added\n",
      "    'highly_variable', boolean vector (adata.var)\n",
      "    'means', float vector (adata.var)\n",
      "    'dispersions', float vector (adata.var)\n",
      "    'dispersions_norm', float vector (adata.var)\n"
     ]
    },
    {
     "name": "stderr",
     "output_type": "stream",
     "text": [
      "/home/mahogny/miniconda3/lib/python3.7/site-packages/ipykernel_launcher.py:14: SettingWithCopyWarning: \n",
      "A value is trying to be set on a copy of a slice from a DataFrame\n",
      "\n",
      "See the caveats in the documentation: https://pandas.pydata.org/pandas-docs/stable/user_guide/indexing.html#returning-a-view-versus-a-copy\n",
      "  \n",
      "/home/mahogny/miniconda3/lib/python3.7/site-packages/ipykernel_launcher.py:20: UserWarning: Pandas doesn't allow columns to be created via a new attribute name - see https://pandas.pydata.org/pandas-docs/stable/indexing.html#attribute-access\n"
     ]
    }
   ],
   "source": [
    "def findHighlyVariable(adata):\n",
    "    adata2 = sc.AnnData(X=adata.raw.X, \n",
    "                        var=adata.raw.var,\n",
    "                        obs = adata.obs)\n",
    "    mitochondrial_genes = adata2.var_names[adata2.var[\"gene_names\"].str.startswith('MT-')].tolist()\n",
    "\n",
    "    #Figure out the variable genes for the full dataset\n",
    "    sc.pp.highly_variable_genes(adata2, min_mean=0.5, max_mean=20, min_disp=0.3, batch_key = 'sampleid')\n",
    "    #sc.pl.highly_variable_genes(adata2)\n",
    "    \n",
    "    # Exclude the mitochondrial genes\n",
    "    for i,g in enumerate(adata2.var.highly_variable.index.values.tolist()):\n",
    "        if g in mitochondrial_genes:\n",
    "            adata2.var.highly_variable[g] = False\n",
    "\n",
    "    #sc.pl.highly_variable_genes(adata2)\n",
    "\n",
    "    ## Set which genes to consider highly variable\n",
    "    var_genes = adata2.var.highly_variable[adata2.var.highly_variable == True].copy().index\n",
    "    adata.var.highly_variable=adata2.var.highly_variable\n",
    "\n",
    "    return(var_genes)\n",
    "\n",
    "var_genes=findHighlyVariable(adata)"
   ]
  },
  {
   "cell_type": "code",
   "execution_count": 5,
   "metadata": {},
   "outputs": [
    {
     "name": "stdout",
     "output_type": "stream",
     "text": [
      "computing PCA\n",
      "    with n_comps=50\n",
      "    finished (0:00:03)\n",
      "computing neighbors\n",
      "    using 'X_pca' with n_pcs = 50\n",
      "    finished: added to `.uns['neighbors']`\n",
      "    `.obsp['distances']`, distances for each pair of neighbors\n",
      "    `.obsp['connectivities']`, weighted adjacency matrix (0:00:02)\n",
      "computing UMAP\n",
      "    finished: added\n",
      "    'X_umap', UMAP coordinates (adata.obsm) (0:00:02)\n"
     ]
    }
   ],
   "source": [
    "#Calculate neighbour graph\n",
    "sc.tl.pca(adata, svd_solver='arpack')\n",
    "sc.pp.neighbors(adata)\n",
    "sc.tl.umap(adata, n_components=3)"
   ]
  },
  {
   "cell_type": "code",
   "execution_count": 6,
   "metadata": {},
   "outputs": [
    {
     "name": "stdout",
     "output_type": "stream",
     "text": [
      "running Leiden clustering\n",
      "    finished: found 2 clusters and added\n",
      "    'leiden', the cluster labels (adata.obs, categorical) (0:00:00)\n"
     ]
    },
    {
     "name": "stderr",
     "output_type": "stream",
     "text": [
      "... storing 'sampleid' as categorical\n",
      "findfont: Font family ['sans-serif'] not found. Falling back to DejaVu Sans.\n",
      "findfont: Font family ['sans-serif'] not found. Falling back to DejaVu Sans.\n",
      "findfont: Font family ['sans-serif'] not found. Falling back to DejaVu Sans.\n"
     ]
    },
    {
     "data": {
      "image/png": "[encoded data removed]",
      "text/plain": [
       "<Figure size 432x288 with 1 Axes>"
      ]
     },
     "metadata": {},
     "output_type": "display_data"
    }
   ],
   "source": [
    "### Perform the clustering\n",
    "sc.tl.leiden(adata, resolution=0.3)\n",
    "sc.pl.umap(adata, color=[\n",
    "    'leiden'], \n",
    "    legend_loc = 'on data',\n",
    "    ncols=2)\n"
   ]
  },
  {
   "cell_type": "code",
   "execution_count": 7,
   "metadata": {},
   "outputs": [
    {
     "name": "stdout",
     "output_type": "stream",
     "text": [
      "<isoform.cellpile.CellPileManager at 0x7f9a690a2fb0 jclass=isoform/cellpile/CellPileManager jself=<LocalRef obj=0x564c9a791be0 at 0x7f999c24d930>>\n"
     ]
    }
   ],
   "source": [
    "### For cellpiles\n",
    "import scherlock.CellPile as cpl\n",
    "\n",
    "# Initialize cellpile\n",
    "cp = cpl.CellPile()\n",
    "\n",
    "### Load the reference genome\n",
    "cp.addGTF(\"reduced/ref/genes.gtf.gz\")\n",
    "cp.addPile(\"reduced/10x_atac.cellpile\", pileName='sample1')  #Note that the pilename must correspond to sampleid\n"
   ]
  },
  {
   "cell_type": "code",
   "execution_count": 8,
   "metadata": {},
   "outputs": [
    {
     "data": {
      "image/svg+xml": [
       "<svg height=\"620.0\" style=\"background-color:none\" width=\"1000.0\" xmlns=\"http://www.w3.org/2000/svg\" xmlns:xlink=\"http://www.w3.org/1999/xlink\"><defs><mask id=\"trackmask\"><rect fill=\"white\" height=\"620.0\" width=\"1000.0\" x=\"200.0\" y=\"0\"/></mask></defs><rect fill=\"white\" height=\"100%\" width=\"100%\"/><line stroke=\"rgb(200,200,200)\" x1=\"200.0\" x2=\"200.0\" y1=\"0\" y2=\"100%\"/><line stroke=\"rgb(200,200,200)\" x1=\"250.0\" x2=\"250.0\" y1=\"0\" y2=\"100%\"/><line stroke=\"rgb(200,200,200)\" x1=\"300.0\" x2=\"300.0\" y1=\"0\" y2=\"100%\"/><line stroke=\"rgb(200,200,200)\" x1=\"350.0\" x2=\"350.0\" y1=\"0\" y2=\"100%\"/><line stroke=\"rgb(200,200,200)\" x1=\"400.0\" x2=\"400.0\" y1=\"0\" y2=\"100%\"/><line stroke=\"rgb(200,200,200)\" x1=\"450.0\" x2=\"450.0\" y1=\"0\" y2=\"100%\"/><line stroke=\"rgb(200,200,200)\" x1=\"500.0\" x2=\"500.0\" y1=\"0\" y2=\"100%\"/><line stroke=\"rgb(200,200,200)\" x1=\"550.0\" x2=\"550.0\" y1=\"0\" y2=\"100%\"/><line stroke=\"rgb(200,200,200)\" x1=\"600.0\" x2=\"600.0\" y1=\"0\" y2=\"100%\"/><line stroke=\"rgb(200,200,200)\" x1=\"650.0\" x2=\"650.0\" y1=\"0\" y2=\"100%\"/><line stroke=\"rgb(200,200,200)\" x1=\"700.0\" x2=\"700.0\" y1=\"0\" y2=\"100%\"/><line stroke=\"rgb(200,200,200)\" x1=\"750.0\" x2=\"750.0\" y1=\"0\" y2=\"100%\"/><line stroke=\"rgb(200,200,200)\" x1=\"800.0\" x2=\"800.0\" y1=\"0\" y2=\"100%\"/><line stroke=\"rgb(200,200,200)\" x1=\"850.0\" x2=\"850.0\" y1=\"0\" y2=\"100%\"/><line stroke=\"rgb(200,200,200)\" x1=\"900.0\" x2=\"900.0\" y1=\"0\" y2=\"100%\"/><line stroke=\"rgb(200,200,200)\" x1=\"950.0\" x2=\"950.0\" y1=\"0\" y2=\"100%\"/><polygon points=\"200.0,100.0 200.0,100.0 380.0,100.0 380.8,10.0 383.20000000000005,10.0 384.0,100.0 1000.0 100.0 1000.0 100.0 \" style=\"fill:black; stroke:black;\"/><text font-size=\"20.0px\" style=\"font: italic sans-serif; fill: red;\" x=\"5.0\" y=\"100.0\">0</text><polygon points=\"200.0,200.0 200.0,200.0 1000.0 200.0 1000.0 200.0 \" style=\"fill:black; stroke:black;\"/><text font-size=\"20.0px\" style=\"font: italic sans-serif; fill: red;\" x=\"5.0\" y=\"200.0\">1</text><line stroke=\"rgb(0,0,0)\" stroke-width=\"2px\" x1=\"203.9738338326099\" x2=\"678.3884575411139\" y1=\"215.0\" y2=\"215.0\"/><rect height=\"15.0\" style=\"fill:rgb(0,0,0);stroke-width:3;stroke:none\" width=\"2.0052576878400714\" x=\"203.9738338326099\" y=\"207.5\"/><rect height=\"15.0\" style=\"fill:rgb(0,0,0);stroke-width:3;stroke:none\" width=\"0.7825395854985686\" x=\"203.9738338326099\" y=\"207.5\"/><rect height=\"15.0\" style=\"fill:rgb(0,0,0);stroke-width:3;stroke:none\" width=\"1.2104909213180974\" x=\"204.76860059913187\" y=\"207.5\"/><rect height=\"15.0\" style=\"fill:rgb(0,0,0);stroke-width:3;stroke:none\" width=\"0.02445436204683915\" x=\"204.76860059913187\" y=\"207.5\"/><rect height=\"15.0\" style=\"fill:rgb(0,0,0);stroke-width:3;stroke:none\" width=\"2.262028489331783\" x=\"212.30054410955555\" y=\"207.5\"/><rect height=\"15.0\" style=\"fill:rgb(0,0,0);stroke-width:3;stroke:none\" width=\"2.262028489331783\" x=\"212.30054410955555\" y=\"207.5\"/><rect height=\"15.0\" style=\"fill:rgb(0,0,0);stroke-width:3;stroke:none\" width=\"2.335391575472272\" x=\"238.9191171975301\" y=\"207.5\"/><rect height=\"15.0\" style=\"fill:rgb(0,0,0);stroke-width:3;stroke:none\" width=\"2.335391575472272\" x=\"238.9191171975301\" y=\"207.5\"/><rect height=\"15.0\" style=\"fill:rgb(0,0,0);stroke-width:3;stroke:none\" width=\"1.2104909213180974\" x=\"251.9166106254203\" y=\"207.5\"/><rect height=\"15.0\" style=\"fill:rgb(0,0,0);stroke-width:3;stroke:none\" width=\"1.2104909213180974\" x=\"251.9166106254203\" y=\"207.5\"/><rect height=\"15.0\" style=\"fill:rgb(0,0,0);stroke-width:3;stroke:none\" width=\"1.0393103869902802\" x=\"265.7333251818793\" y=\"207.5\"/><rect height=\"15.0\" style=\"fill:rgb(0,0,0);stroke-width:3;stroke:none\" width=\"1.0393103869902802\" x=\"265.7333251818793\" y=\"207.5\"/><rect height=\"15.0\" style=\"fill:rgb(0,0,0);stroke-width:3;stroke:none\" width=\"2.2987100324020275\" x=\"318.99492571987525\" y=\"207.5\"/><rect height=\"15.0\" style=\"fill:rgb(0,0,0);stroke-width:3;stroke:none\" width=\"2.2987100324020275\" x=\"318.99492571987525\" y=\"207.5\"/><rect height=\"15.0\" style=\"fill:rgb(0,0,0);stroke-width:3;stroke:none\" width=\"1.5283976279268359\" x=\"387.28373173564836\" y=\"207.5\"/><rect height=\"15.0\" style=\"fill:rgb(0,0,0);stroke-width:3;stroke:none\" width=\"1.5283976279268359\" x=\"387.28373173564836\" y=\"207.5\"/><rect height=\"15.0\" style=\"fill:rgb(0,0,0);stroke-width:3;stroke:none\" width=\"0.978174481873225\" x=\"395.0602188665403\" y=\"207.5\"/><rect height=\"15.0\" style=\"fill:rgb(0,0,0);stroke-width:3;stroke:none\" width=\"0.978174481873225\" x=\"395.0602188665403\" y=\"207.5\"/><rect height=\"15.0\" style=\"fill:rgb(0,0,0);stroke-width:3;stroke:none\" width=\"0.24454362046827782\" x=\"420.34602922296267\" y=\"207.5\"/><rect height=\"15.0\" style=\"fill:rgb(0,0,0);stroke-width:3;stroke:none\" width=\"0.24454362046827782\" x=\"420.34602922296267\" y=\"207.5\"/><rect height=\"15.0\" style=\"fill:rgb(0,0,0);stroke-width:3;stroke:none\" width=\"1.430580179739536\" x=\"432.4998471602372\" y=\"207.5\"/><rect height=\"15.0\" style=\"fill:rgb(0,0,0);stroke-width:3;stroke:none\" width=\"1.430580179739536\" x=\"432.4998471602372\" y=\"207.5\"/><rect height=\"15.0\" style=\"fill:rgb(0,0,0);stroke-width:3;stroke:none\" width=\"11.67695787736136\" x=\"666.7114996637525\" y=\"207.5\"/><rect height=\"15.0\" style=\"fill:rgb(0,0,0);stroke-width:3;stroke:none\" width=\"1.4672617228097806\" x=\"666.7114996637525\" y=\"207.5\"/><rect height=\"15.0\" style=\"fill:rgb(0,0,0);stroke-width:3;stroke:none\" width=\"0.024454362046867573\" x=\"668.1909885675857\" y=\"207.5\"/><rect height=\"15.0\" style=\"fill:rgb(0,0,0);stroke-width:3;stroke:none\" width=\"10.197468973528203\" x=\"668.1909885675857\" y=\"207.5\"/><text font-size=\"20.0px\" style=\"font: italic sans-serif; fill: red;\" x=\"5.0\" y=\"221.0\">ENST00000314754</text><line stroke=\"rgb(0,0,0)\" stroke-width=\"2px\" x1=\"205.07428012471723\" x2=\"388.44531393287275\" y1=\"245.0\" y2=\"245.0\"/><rect height=\"15.0\" style=\"fill:rgb(0,0,0);stroke-width:3;stroke:none\" width=\"0.904811395732736\" x=\"205.07428012471723\" y=\"237.5\"/><rect height=\"15.0\" style=\"fill:rgb(0,0,0);stroke-width:3;stroke:none\" width=\"0.904811395732736\" x=\"205.07428012471723\" y=\"237.5\"/><rect height=\"15.0\" style=\"fill:rgb(0,0,0);stroke-width:3;stroke:none\" width=\"0.6480405942409959\" x=\"210.51537568013694\" y=\"237.5\"/><rect height=\"15.0\" style=\"fill:rgb(0,0,0);stroke-width:3;stroke:none\" width=\"0.6480405942409959\" x=\"210.51537568013694\" y=\"237.5\"/><rect height=\"15.0\" style=\"fill:rgb(0,0,0);stroke-width:3;stroke:none\" width=\"2.262028489331783\" x=\"212.30054410955555\" y=\"237.5\"/><rect height=\"15.0\" style=\"fill:rgb(0,0,0);stroke-width:3;stroke:none\" width=\"2.262028489331783\" x=\"212.30054410955555\" y=\"237.5\"/><rect height=\"15.0\" style=\"fill:rgb(0,0,0);stroke-width:3;stroke:none\" width=\"2.335391575472272\" x=\"238.9191171975301\" y=\"237.5\"/><rect height=\"15.0\" style=\"fill:rgb(0,0,0);stroke-width:3;stroke:none\" width=\"2.335391575472272\" x=\"238.9191171975301\" y=\"237.5\"/><rect height=\"15.0\" style=\"fill:rgb(0,0,0);stroke-width:3;stroke:none\" width=\"1.2104909213180974\" x=\"251.9166106254203\" y=\"237.5\"/><rect height=\"15.0\" style=\"fill:rgb(0,0,0);stroke-width:3;stroke:none\" width=\"1.2104909213180974\" x=\"251.9166106254203\" y=\"237.5\"/><rect height=\"15.0\" style=\"fill:rgb(0,0,0);stroke-width:3;stroke:none\" width=\"1.0393103869902802\" x=\"265.7333251818793\" y=\"237.5\"/><rect height=\"15.0\" style=\"fill:rgb(0,0,0);stroke-width:3;stroke:none\" width=\"1.0393103869902802\" x=\"265.7333251818793\" y=\"237.5\"/><rect height=\"15.0\" style=\"fill:rgb(0,0,0);stroke-width:3;stroke:none\" width=\"2.2987100324020275\" x=\"318.99492571987525\" y=\"237.5\"/><rect height=\"15.0\" style=\"fill:rgb(0,0,0);stroke-width:3;stroke:none\" width=\"2.2987100324020275\" x=\"318.99492571987525\" y=\"237.5\"/><rect height=\"15.0\" style=\"fill:rgb(0,0,0);stroke-width:3;stroke:none\" width=\"1.1615821972243907\" x=\"387.28373173564836\" y=\"237.5\"/><rect height=\"15.0\" style=\"fill:rgb(0,0,0);stroke-width:3;stroke:none\" width=\"1.1615821972243907\" x=\"387.28373173564836\" y=\"237.5\"/><text font-size=\"20.0px\" style=\"font: italic sans-serif; fill: red;\" x=\"5.0\" y=\"251.0\">ENST00000343420</text><line stroke=\"rgb(0,0,0)\" stroke-width=\"2px\" x1=\"201.90744023965274\" x2=\"437.0850400440179\" y1=\"275.0\" y2=\"275.0\"/><rect height=\"15.0\" style=\"fill:rgb(0,0,0);stroke-width:3;stroke:none\" width=\"4.0716512807972265\" x=\"201.90744023965274\" y=\"267.5\"/><rect height=\"15.0\" style=\"fill:rgb(0,0,0);stroke-width:3;stroke:none\" width=\"2.8489331784557237\" x=\"201.90744023965274\" y=\"267.5\"/><rect height=\"15.0\" style=\"fill:rgb(0,0,0);stroke-width:3;stroke:none\" width=\"1.2104909213180974\" x=\"204.76860059913187\" y=\"267.5\"/><rect height=\"15.0\" style=\"fill:rgb(0,0,0);stroke-width:3;stroke:none\" width=\"0.02445436204683915\" x=\"204.76860059913187\" y=\"267.5\"/><rect height=\"15.0\" style=\"fill:rgb(0,0,0);stroke-width:3;stroke:none\" width=\"2.262028489331783\" x=\"212.30054410955555\" y=\"267.5\"/><rect height=\"15.0\" style=\"fill:rgb(0,0,0);stroke-width:3;stroke:none\" width=\"2.262028489331783\" x=\"212.30054410955555\" y=\"267.5\"/><rect height=\"15.0\" style=\"fill:rgb(0,0,0);stroke-width:3;stroke:none\" width=\"2.335391575472272\" x=\"238.9191171975301\" y=\"267.5\"/><rect height=\"15.0\" style=\"fill:rgb(0,0,0);stroke-width:3;stroke:none\" width=\"2.335391575472272\" x=\"238.9191171975301\" y=\"267.5\"/><rect height=\"15.0\" style=\"fill:rgb(0,0,0);stroke-width:3;stroke:none\" width=\"1.2104909213180974\" x=\"251.9166106254203\" y=\"267.5\"/><rect height=\"15.0\" style=\"fill:rgb(0,0,0);stroke-width:3;stroke:none\" width=\"1.2104909213180974\" x=\"251.9166106254203\" y=\"267.5\"/><rect height=\"15.0\" style=\"fill:rgb(0,0,0);stroke-width:3;stroke:none\" width=\"1.0393103869902802\" x=\"265.7333251818793\" y=\"267.5\"/><rect height=\"15.0\" style=\"fill:rgb(0,0,0);stroke-width:3;stroke:none\" width=\"1.0393103869902802\" x=\"265.7333251818793\" y=\"267.5\"/><rect height=\"15.0\" style=\"fill:rgb(0,0,0);stroke-width:3;stroke:none\" width=\"2.2987100324020275\" x=\"318.99492571987525\" y=\"267.5\"/><rect height=\"15.0\" style=\"fill:rgb(0,0,0);stroke-width:3;stroke:none\" width=\"2.2987100324020275\" x=\"318.99492571987525\" y=\"267.5\"/><rect height=\"15.0\" style=\"fill:rgb(0,0,0);stroke-width:3;stroke:none\" width=\"1.5283976279268359\" x=\"387.28373173564836\" y=\"267.5\"/><rect height=\"15.0\" style=\"fill:rgb(0,0,0);stroke-width:3;stroke:none\" width=\"1.5283976279268359\" x=\"387.28373173564836\" y=\"267.5\"/><rect height=\"15.0\" style=\"fill:rgb(0,0,0);stroke-width:3;stroke:none\" width=\"0.978174481873225\" x=\"395.0602188665403\" y=\"267.5\"/><rect height=\"15.0\" style=\"fill:rgb(0,0,0);stroke-width:3;stroke:none\" width=\"0.978174481873225\" x=\"395.0602188665403\" y=\"267.5\"/><rect height=\"15.0\" style=\"fill:rgb(0,0,0);stroke-width:3;stroke:none\" width=\"0.24454362046827782\" x=\"420.34602922296267\" y=\"267.5\"/><rect height=\"15.0\" style=\"fill:rgb(0,0,0);stroke-width:3;stroke:none\" width=\"0.24454362046827782\" x=\"420.34602922296267\" y=\"267.5\"/><rect height=\"15.0\" style=\"fill:rgb(0,0,0);stroke-width:3;stroke:none\" width=\"4.585192883780678\" x=\"432.4998471602372\" y=\"267.5\"/><rect height=\"15.0\" style=\"fill:rgb(0,0,0);stroke-width:3;stroke:none\" width=\"3.0567952558537854\" x=\"432.4998471602372\" y=\"267.5\"/><rect height=\"15.0\" style=\"fill:rgb(0,0,0);stroke-width:3;stroke:none\" width=\"0.024454362046867573\" x=\"435.56886959711437\" y=\"267.5\"/><rect height=\"15.0\" style=\"fill:rgb(0,0,0);stroke-width:3;stroke:none\" width=\"1.5161704469035158\" x=\"435.56886959711437\" y=\"267.5\"/><text font-size=\"20.0px\" style=\"font: italic sans-serif; fill: red;\" x=\"5.0\" y=\"281.0\">ENST00000367063</text><line stroke=\"rgb(0,0,0)\" stroke-width=\"2px\" x1=\"200.0\" x2=\"684.0740967170019\" y1=\"305.0\" y2=\"305.0\"/><rect height=\"15.0\" style=\"fill:rgb(0,0,0);stroke-width:3;stroke:none\" width=\"5.97909152044997\" x=\"200.0\" y=\"297.5\"/><rect height=\"15.0\" style=\"fill:rgb(0,0,0);stroke-width:3;stroke:none\" width=\"4.756373418108467\" x=\"200.0\" y=\"297.5\"/><rect height=\"15.0\" style=\"fill:rgb(0,0,0);stroke-width:3;stroke:none\" width=\"1.2104909213180974\" x=\"204.76860059913187\" y=\"297.5\"/><rect height=\"15.0\" style=\"fill:rgb(0,0,0);stroke-width:3;stroke:none\" width=\"0.02445436204683915\" x=\"204.76860059913187\" y=\"297.5\"/><rect height=\"15.0\" style=\"fill:rgb(0,0,0);stroke-width:3;stroke:none\" width=\"2.262028489331783\" x=\"212.30054410955555\" y=\"297.5\"/><rect height=\"15.0\" style=\"fill:rgb(0,0,0);stroke-width:3;stroke:none\" width=\"2.262028489331783\" x=\"212.30054410955555\" y=\"297.5\"/><rect height=\"15.0\" style=\"fill:rgb(0,0,0);stroke-width:3;stroke:none\" width=\"2.335391575472272\" x=\"238.9191171975301\" y=\"297.5\"/><rect height=\"15.0\" style=\"fill:rgb(0,0,0);stroke-width:3;stroke:none\" width=\"2.335391575472272\" x=\"238.9191171975301\" y=\"297.5\"/><rect height=\"15.0\" style=\"fill:rgb(0,0,0);stroke-width:3;stroke:none\" width=\"1.2104909213180974\" x=\"251.9166106254203\" y=\"297.5\"/><rect height=\"15.0\" style=\"fill:rgb(0,0,0);stroke-width:3;stroke:none\" width=\"1.2104909213180974\" x=\"251.9166106254203\" y=\"297.5\"/><rect height=\"15.0\" style=\"fill:rgb(0,0,0);stroke-width:3;stroke:none\" width=\"1.0393103869902802\" x=\"265.7333251818793\" y=\"297.5\"/><rect height=\"15.0\" style=\"fill:rgb(0,0,0);stroke-width:3;stroke:none\" width=\"1.0393103869902802\" x=\"265.7333251818793\" y=\"297.5\"/><rect height=\"15.0\" style=\"fill:rgb(0,0,0);stroke-width:3;stroke:none\" width=\"2.2987100324020275\" x=\"318.99492571987525\" y=\"297.5\"/><rect height=\"15.0\" style=\"fill:rgb(0,0,0);stroke-width:3;stroke:none\" width=\"2.2987100324020275\" x=\"318.99492571987525\" y=\"297.5\"/><rect height=\"15.0\" style=\"fill:rgb(0,0,0);stroke-width:3;stroke:none\" width=\"1.5283976279268359\" x=\"387.28373173564836\" y=\"297.5\"/><rect height=\"15.0\" style=\"fill:rgb(0,0,0);stroke-width:3;stroke:none\" width=\"1.5283976279268359\" x=\"387.28373173564836\" y=\"297.5\"/><rect height=\"15.0\" style=\"fill:rgb(0,0,0);stroke-width:3;stroke:none\" width=\"0.978174481873225\" x=\"395.0602188665403\" y=\"297.5\"/><rect height=\"15.0\" style=\"fill:rgb(0,0,0);stroke-width:3;stroke:none\" width=\"0.978174481873225\" x=\"395.0602188665403\" y=\"297.5\"/><rect height=\"15.0\" style=\"fill:rgb(0,0,0);stroke-width:3;stroke:none\" width=\"0.24454362046827782\" x=\"420.34602922296267\" y=\"297.5\"/><rect height=\"15.0\" style=\"fill:rgb(0,0,0);stroke-width:3;stroke:none\" width=\"0.24454362046827782\" x=\"420.34602922296267\" y=\"297.5\"/><rect height=\"15.0\" style=\"fill:rgb(0,0,0);stroke-width:3;stroke:none\" width=\"17.362597053249374\" x=\"666.7114996637525\" y=\"297.5\"/><rect height=\"15.0\" style=\"fill:rgb(0,0,0);stroke-width:3;stroke:none\" width=\"0.7458580424282673\" x=\"666.7114996637525\" y=\"297.5\"/><rect height=\"15.0\" style=\"fill:rgb(0,0,0);stroke-width:3;stroke:none\" width=\"0.024454362046753886\" x=\"667.4695848872043\" y=\"297.5\"/><rect height=\"15.0\" style=\"fill:rgb(0,0,0);stroke-width:3;stroke:none\" width=\"16.604511829797616\" x=\"667.4695848872043\" y=\"297.5\"/><text font-size=\"20.0px\" style=\"font: italic sans-serif; fill: red;\" x=\"5.0\" y=\"311.0\">ENST00000367064</text><line stroke=\"rgb(0,0,0)\" stroke-width=\"2px\" x1=\"204.36510362535918\" x2=\"669.4137066699273\" y1=\"335.0\" y2=\"335.0\"/><rect height=\"15.0\" style=\"fill:rgb(0,0,0);stroke-width:3;stroke:none\" width=\"1.613987895090787\" x=\"204.36510362535918\" y=\"327.5\"/><rect height=\"15.0\" style=\"fill:rgb(0,0,0);stroke-width:3;stroke:none\" width=\"0.3912697927492843\" x=\"204.36510362535918\" y=\"327.5\"/><rect height=\"15.0\" style=\"fill:rgb(0,0,0);stroke-width:3;stroke:none\" width=\"1.2104909213180974\" x=\"204.76860059913187\" y=\"327.5\"/><rect height=\"15.0\" style=\"fill:rgb(0,0,0);stroke-width:3;stroke:none\" width=\"0.02445436204683915\" x=\"204.76860059913187\" y=\"327.5\"/><rect height=\"15.0\" style=\"fill:rgb(0,0,0);stroke-width:3;stroke:none\" width=\"2.262028489331783\" x=\"212.30054410955555\" y=\"327.5\"/><rect height=\"15.0\" style=\"fill:rgb(0,0,0);stroke-width:3;stroke:none\" width=\"2.262028489331783\" x=\"212.30054410955555\" y=\"327.5\"/><rect height=\"15.0\" style=\"fill:rgb(0,0,0);stroke-width:3;stroke:none\" width=\"2.335391575472272\" x=\"238.9191171975301\" y=\"327.5\"/><rect height=\"15.0\" style=\"fill:rgb(0,0,0);stroke-width:3;stroke:none\" width=\"2.335391575472272\" x=\"238.9191171975301\" y=\"327.5\"/><rect height=\"15.0\" style=\"fill:rgb(0,0,0);stroke-width:3;stroke:none\" width=\"1.2104909213180974\" x=\"251.9166106254203\" y=\"327.5\"/><rect height=\"15.0\" style=\"fill:rgb(0,0,0);stroke-width:3;stroke:none\" width=\"1.2104909213180974\" x=\"251.9166106254203\" y=\"327.5\"/><rect height=\"15.0\" style=\"fill:rgb(0,0,0);stroke-width:3;stroke:none\" width=\"1.0393103869902802\" x=\"265.7333251818793\" y=\"327.5\"/><rect height=\"15.0\" style=\"fill:rgb(0,0,0);stroke-width:3;stroke:none\" width=\"1.0393103869902802\" x=\"265.7333251818793\" y=\"327.5\"/><rect height=\"15.0\" style=\"fill:rgb(0,0,0);stroke-width:3;stroke:none\" width=\"2.2987100324020275\" x=\"318.99492571987525\" y=\"327.5\"/><rect height=\"15.0\" style=\"fill:rgb(0,0,0);stroke-width:3;stroke:none\" width=\"2.2987100324020275\" x=\"318.99492571987525\" y=\"327.5\"/><rect height=\"15.0\" style=\"fill:rgb(0,0,0);stroke-width:3;stroke:none\" width=\"3.0567952558537286\" x=\"387.28373173564836\" y=\"327.5\"/><rect height=\"15.0\" style=\"fill:rgb(0,0,0);stroke-width:3;stroke:none\" width=\"3.0567952558537286\" x=\"387.28373173564836\" y=\"327.5\"/><rect height=\"15.0\" style=\"fill:rgb(0,0,0);stroke-width:3;stroke:none\" width=\"5.648957632817769\" x=\"390.38943571559577\" y=\"327.5\"/><rect height=\"15.0\" style=\"fill:rgb(0,0,0);stroke-width:3;stroke:none\" width=\"5.648957632817769\" x=\"390.38943571559577\" y=\"327.5\"/><rect height=\"15.0\" style=\"fill:rgb(0,0,0);stroke-width:3;stroke:none\" width=\"0.24454362046827782\" x=\"420.34602922296267\" y=\"327.5\"/><rect height=\"15.0\" style=\"fill:rgb(0,0,0);stroke-width:3;stroke:none\" width=\"0.24454362046827782\" x=\"420.34602922296267\" y=\"327.5\"/><rect height=\"15.0\" style=\"fill:rgb(0,0,0);stroke-width:3;stroke:none\" width=\"2.702207006174717\" x=\"666.7114996637525\" y=\"327.5\"/><rect height=\"15.0\" style=\"fill:rgb(0,0,0);stroke-width:3;stroke:none\" width=\"0.7458580424282673\" x=\"666.7114996637525\" y=\"327.5\"/><rect height=\"15.0\" style=\"fill:rgb(0,0,0);stroke-width:3;stroke:none\" width=\"0.024454362046753886\" x=\"667.4695848872043\" y=\"327.5\"/><rect height=\"15.0\" style=\"fill:rgb(0,0,0);stroke-width:3;stroke:none\" width=\"1.9441217827229593\" x=\"667.4695848872043\" y=\"327.5\"/><text font-size=\"20.0px\" style=\"font: italic sans-serif; fill: red;\" x=\"5.0\" y=\"341.0\">ENST00000367067</text><line stroke=\"rgb(0,0,0)\" stroke-width=\"2px\" x1=\"203.26465733325182\" x2=\"668.7534388946628\" y1=\"365.0\" y2=\"365.0\"/><rect height=\"15.0\" style=\"fill:rgb(0,0,0);stroke-width:3;stroke:none\" width=\"2.714434187198151\" x=\"203.26465733325182\" y=\"357.5\"/><rect height=\"15.0\" style=\"fill:rgb(0,0,0);stroke-width:3;stroke:none\" width=\"1.4917160848566482\" x=\"203.26465733325182\" y=\"357.5\"/><rect height=\"15.0\" style=\"fill:rgb(0,0,0);stroke-width:3;stroke:none\" width=\"1.2104909213180974\" x=\"204.76860059913187\" y=\"357.5\"/><rect height=\"15.0\" style=\"fill:rgb(0,0,0);stroke-width:3;stroke:none\" width=\"0.02445436204683915\" x=\"204.76860059913187\" y=\"357.5\"/><rect height=\"15.0\" style=\"fill:rgb(0,0,0);stroke-width:3;stroke:none\" width=\"2.262028489331783\" x=\"212.30054410955555\" y=\"357.5\"/><rect height=\"15.0\" style=\"fill:rgb(0,0,0);stroke-width:3;stroke:none\" width=\"2.262028489331783\" x=\"212.30054410955555\" y=\"357.5\"/><rect height=\"15.0\" style=\"fill:rgb(0,0,0);stroke-width:3;stroke:none\" width=\"1.2104909213180974\" x=\"251.9166106254203\" y=\"357.5\"/><rect height=\"15.0\" style=\"fill:rgb(0,0,0);stroke-width:3;stroke:none\" width=\"1.2104909213180974\" x=\"251.9166106254203\" y=\"357.5\"/><rect height=\"15.0\" style=\"fill:rgb(0,0,0);stroke-width:3;stroke:none\" width=\"1.0393103869902802\" x=\"265.7333251818793\" y=\"357.5\"/><rect height=\"15.0\" style=\"fill:rgb(0,0,0);stroke-width:3;stroke:none\" width=\"1.0393103869902802\" x=\"265.7333251818793\" y=\"357.5\"/><rect height=\"15.0\" style=\"fill:rgb(0,0,0);stroke-width:3;stroke:none\" width=\"2.2987100324020275\" x=\"318.99492571987525\" y=\"357.5\"/><rect height=\"15.0\" style=\"fill:rgb(0,0,0);stroke-width:3;stroke:none\" width=\"2.2987100324020275\" x=\"318.99492571987525\" y=\"357.5\"/><rect height=\"15.0\" style=\"fill:rgb(0,0,0);stroke-width:3;stroke:none\" width=\"1.5283976279268359\" x=\"387.28373173564836\" y=\"357.5\"/><rect height=\"15.0\" style=\"fill:rgb(0,0,0);stroke-width:3;stroke:none\" width=\"1.5283976279268359\" x=\"387.28373173564836\" y=\"357.5\"/><rect height=\"15.0\" style=\"fill:rgb(0,0,0);stroke-width:3;stroke:none\" width=\"0.978174481873225\" x=\"395.0602188665403\" y=\"357.5\"/><rect height=\"15.0\" style=\"fill:rgb(0,0,0);stroke-width:3;stroke:none\" width=\"0.978174481873225\" x=\"395.0602188665403\" y=\"357.5\"/><rect height=\"15.0\" style=\"fill:rgb(0,0,0);stroke-width:3;stroke:none\" width=\"0.24454362046827782\" x=\"420.34602922296267\" y=\"357.5\"/><rect height=\"15.0\" style=\"fill:rgb(0,0,0);stroke-width:3;stroke:none\" width=\"0.24454362046827782\" x=\"420.34602922296267\" y=\"357.5\"/><rect height=\"15.0\" style=\"fill:rgb(0,0,0);stroke-width:3;stroke:none\" width=\"2.041939230910316\" x=\"666.7114996637525\" y=\"357.5\"/><rect height=\"15.0\" style=\"fill:rgb(0,0,0);stroke-width:3;stroke:none\" width=\"0.7458580424282673\" x=\"666.7114996637525\" y=\"357.5\"/><rect height=\"15.0\" style=\"fill:rgb(0,0,0);stroke-width:3;stroke:none\" width=\"0.024454362046753886\" x=\"667.4695848872043\" y=\"357.5\"/><rect height=\"15.0\" style=\"fill:rgb(0,0,0);stroke-width:3;stroke:none\" width=\"1.283854007458558\" x=\"667.4695848872043\" y=\"357.5\"/><text font-size=\"20.0px\" style=\"font: italic sans-serif; fill: red;\" x=\"5.0\" y=\"371.0\">ENST00000391921</text><line stroke=\"rgb(0,0,0)\" stroke-width=\"2px\" x1=\"240.12960811884818\" x2=\"668.7534388946628\" y1=\"395.0\" y2=\"395.0\"/><rect height=\"15.0\" style=\"fill:rgb(0,0,0);stroke-width:3;stroke:none\" width=\"1.124900654154203\" x=\"240.12960811884818\" y=\"387.5\"/><rect height=\"15.0\" style=\"fill:rgb(0,0,0);stroke-width:3;stroke:none\" width=\"1.2104909213180974\" x=\"251.9166106254203\" y=\"387.5\"/><rect height=\"15.0\" style=\"fill:rgb(0,0,0);stroke-width:3;stroke:none\" width=\"1.0393103869902802\" x=\"265.7333251818793\" y=\"387.5\"/><rect height=\"15.0\" style=\"fill:rgb(0,0,0);stroke-width:3;stroke:none\" width=\"2.2987100324020275\" x=\"318.99492571987525\" y=\"387.5\"/><rect height=\"15.0\" style=\"fill:rgb(0,0,0);stroke-width:3;stroke:none\" width=\"8.754661612765176\" x=\"387.28373173564836\" y=\"387.5\"/><rect height=\"15.0\" style=\"fill:rgb(0,0,0);stroke-width:3;stroke:none\" width=\"0.24454362046827782\" x=\"420.34602922296267\" y=\"387.5\"/><rect height=\"15.0\" style=\"fill:rgb(0,0,0);stroke-width:3;stroke:none\" width=\"1.283854007458558\" x=\"654.1175032096351\" y=\"387.5\"/><rect height=\"15.0\" style=\"fill:rgb(0,0,0);stroke-width:3;stroke:none\" width=\"2.041939230910316\" x=\"666.7114996637525\" y=\"387.5\"/><text font-size=\"20.0px\" style=\"font: italic sans-serif; fill: red;\" x=\"5.0\" y=\"401.0\">ENST00000465534</text><line stroke=\"rgb(0,0,0)\" stroke-width=\"2px\" x1=\"240.12960811884818\" x2=\"678.4006847221374\" y1=\"425.0\" y2=\"425.0\"/><rect height=\"15.0\" style=\"fill:rgb(0,0,0);stroke-width:3;stroke:none\" width=\"1.124900654154203\" x=\"240.12960811884818\" y=\"417.5\"/><rect height=\"15.0\" style=\"fill:rgb(0,0,0);stroke-width:3;stroke:none\" width=\"1.2104909213180974\" x=\"251.9166106254203\" y=\"417.5\"/><rect height=\"15.0\" style=\"fill:rgb(0,0,0);stroke-width:3;stroke:none\" width=\"1.0393103869902802\" x=\"265.7333251818793\" y=\"417.5\"/><rect height=\"15.0\" style=\"fill:rgb(0,0,0);stroke-width:3;stroke:none\" width=\"2.2987100324020275\" x=\"318.99492571987525\" y=\"417.5\"/><rect height=\"15.0\" style=\"fill:rgb(0,0,0);stroke-width:3;stroke:none\" width=\"8.754661612765176\" x=\"387.28373173564836\" y=\"417.5\"/><rect height=\"15.0\" style=\"fill:rgb(0,0,0);stroke-width:3;stroke:none\" width=\"0.24454362046827782\" x=\"420.34602922296267\" y=\"417.5\"/><rect height=\"15.0\" style=\"fill:rgb(0,0,0);stroke-width:3;stroke:none\" width=\"11.689185058384851\" x=\"666.7114996637525\" y=\"417.5\"/><text font-size=\"20.0px\" style=\"font: italic sans-serif; fill: red;\" x=\"5.0\" y=\"431.0\">ENST00000476590</text><line stroke=\"rgb(0,0,0)\" stroke-width=\"2px\" x1=\"240.12960811884818\" x2=\"399.09518860426726\" y1=\"455.0\" y2=\"455.0\"/><rect height=\"15.0\" style=\"fill:rgb(0,0,0);stroke-width:3;stroke:none\" width=\"1.124900654154203\" x=\"240.12960811884818\" y=\"447.5\"/><rect height=\"15.0\" style=\"fill:rgb(0,0,0);stroke-width:3;stroke:none\" width=\"1.2104909213180974\" x=\"251.9166106254203\" y=\"447.5\"/><rect height=\"15.0\" style=\"fill:rgb(0,0,0);stroke-width:3;stroke:none\" width=\"1.0393103869902802\" x=\"265.7333251818793\" y=\"447.5\"/><rect height=\"15.0\" style=\"fill:rgb(0,0,0);stroke-width:3;stroke:none\" width=\"2.2987100324020275\" x=\"318.99492571987525\" y=\"447.5\"/><rect height=\"15.0\" style=\"fill:rgb(0,0,0);stroke-width:3;stroke:none\" width=\"1.5283976279268359\" x=\"387.28373173564836\" y=\"447.5\"/><rect height=\"15.0\" style=\"fill:rgb(0,0,0);stroke-width:3;stroke:none\" width=\"4.0349697377269536\" x=\"395.0602188665403\" y=\"447.5\"/><text font-size=\"20.0px\" style=\"font: italic sans-serif; fill: red;\" x=\"5.0\" y=\"461.0\">ENST00000488171</text><line stroke=\"rgb(0,0,0)\" stroke-width=\"2px\" x1=\"252.13669988384177\" x2=\"834.2238796845387\" y1=\"485.0\" y2=\"485.0\"/><rect height=\"15.0\" style=\"fill:rgb(0,0,0);stroke-width:3;stroke:none\" width=\"0.9904016628966303\" x=\"252.13669988384177\" y=\"477.5\"/><rect height=\"15.0\" style=\"fill:rgb(0,0,0);stroke-width:3;stroke:none\" width=\"0.9904016628966303\" x=\"252.13669988384177\" y=\"477.5\"/><rect height=\"15.0\" style=\"fill:rgb(0,0,0);stroke-width:3;stroke:none\" width=\"1.0393103869902802\" x=\"265.7333251818793\" y=\"477.5\"/><rect height=\"15.0\" style=\"fill:rgb(0,0,0);stroke-width:3;stroke:none\" width=\"1.0393103869902802\" x=\"265.7333251818793\" y=\"477.5\"/><rect height=\"15.0\" style=\"fill:rgb(0,0,0);stroke-width:3;stroke:none\" width=\"2.2987100324020275\" x=\"318.99492571987525\" y=\"477.5\"/><rect height=\"15.0\" style=\"fill:rgb(0,0,0);stroke-width:3;stroke:none\" width=\"2.2987100324020275\" x=\"318.99492571987525\" y=\"477.5\"/><rect height=\"15.0\" style=\"fill:rgb(0,0,0);stroke-width:3;stroke:none\" width=\"1.5283976279268359\" x=\"387.28373173564836\" y=\"477.5\"/><rect height=\"15.0\" style=\"fill:rgb(0,0,0);stroke-width:3;stroke:none\" width=\"1.5283976279268359\" x=\"387.28373173564836\" y=\"477.5\"/><rect height=\"15.0\" style=\"fill:rgb(0,0,0);stroke-width:3;stroke:none\" width=\"0.978174481873225\" x=\"395.0602188665403\" y=\"477.5\"/><rect height=\"15.0\" style=\"fill:rgb(0,0,0);stroke-width:3;stroke:none\" width=\"0.978174481873225\" x=\"395.0602188665403\" y=\"477.5\"/><rect height=\"15.0\" style=\"fill:rgb(0,0,0);stroke-width:3;stroke:none\" width=\"0.24454362046827782\" x=\"420.34602922296267\" y=\"477.5\"/><rect height=\"15.0\" style=\"fill:rgb(0,0,0);stroke-width:3;stroke:none\" width=\"0.24454362046827782\" x=\"420.34602922296267\" y=\"477.5\"/><rect height=\"15.0\" style=\"fill:rgb(0,0,0);stroke-width:3;stroke:none\" width=\"1.430580179739536\" x=\"762.3769639909519\" y=\"477.5\"/><rect height=\"15.0\" style=\"fill:rgb(0,0,0);stroke-width:3;stroke:none\" width=\"1.430580179739536\" x=\"762.3769639909519\" y=\"477.5\"/><rect height=\"15.0\" style=\"fill:rgb(0,0,0);stroke-width:3;stroke:none\" width=\"5.832365348168992\" x=\"828.3915143363697\" y=\"477.5\"/><rect height=\"15.0\" style=\"fill:rgb(0,0,0);stroke-width:3;stroke:none\" width=\"1.2104909213181827\" x=\"828.3915143363697\" y=\"477.5\"/><rect height=\"15.0\" style=\"fill:rgb(0,0,0);stroke-width:3;stroke:none\" width=\"0.024454362046867573\" x=\"829.6142324387113\" y=\"477.5\"/><rect height=\"15.0\" style=\"fill:rgb(0,0,0);stroke-width:3;stroke:none\" width=\"4.609647245827432\" x=\"829.6142324387113\" y=\"477.5\"/><text font-size=\"20.0px\" style=\"font: italic sans-serif; fill: red;\" x=\"5.0\" y=\"491.0\">ENST00000618707</text><line stroke=\"rgb(0,0,0)\" stroke-width=\"2px\" x1=\"388.0295897780767\" x2=\"1000.0\" y1=\"515.0\" y2=\"515.0\"/><rect height=\"15.0\" style=\"fill:rgb(0,0,0);stroke-width:3;stroke:none\" width=\"0.7825395854985118\" x=\"388.0295897780767\" y=\"507.5\"/><rect height=\"15.0\" style=\"fill:rgb(0,0,0);stroke-width:3;stroke:none\" width=\"0.7825395854985118\" x=\"388.0295897780767\" y=\"507.5\"/><rect height=\"15.0\" style=\"fill:rgb(0,0,0);stroke-width:3;stroke:none\" width=\"0.978174481873225\" x=\"395.0602188665403\" y=\"507.5\"/><rect height=\"15.0\" style=\"fill:rgb(0,0,0);stroke-width:3;stroke:none\" width=\"0.978174481873225\" x=\"395.0602188665403\" y=\"507.5\"/><rect height=\"15.0\" style=\"fill:rgb(0,0,0);stroke-width:3;stroke:none\" width=\"0.24454362046827782\" x=\"420.34602922296267\" y=\"507.5\"/><rect height=\"15.0\" style=\"fill:rgb(0,0,0);stroke-width:3;stroke:none\" width=\"0.24454362046827782\" x=\"420.34602922296267\" y=\"507.5\"/><rect height=\"15.0\" style=\"fill:rgb(0,0,0);stroke-width:3;stroke:none\" width=\"2.2498013083082924\" x=\"980.6565996209574\" y=\"507.5\"/><rect height=\"15.0\" style=\"fill:rgb(0,0,0);stroke-width:3;stroke:none\" width=\"0.158953353304355\" x=\"980.6565996209574\" y=\"507.5\"/><rect height=\"15.0\" style=\"fill:rgb(0,0,0);stroke-width:3;stroke:none\" width=\"0.024454362046867573\" x=\"980.8277801552852\" y=\"507.5\"/><rect height=\"15.0\" style=\"fill:rgb(0,0,0);stroke-width:3;stroke:none\" width=\"2.0786207739805604\" x=\"980.8277801552852\" y=\"507.5\"/><rect height=\"15.0\" style=\"fill:rgb(0,0,0);stroke-width:3;stroke:none\" width=\"7.311854252002149\" x=\"992.6881457479979\" y=\"507.5\"/><rect height=\"15.0\" style=\"fill:rgb(0,0,0);stroke-width:3;stroke:none\" width=\"7.311854252002149\" x=\"992.6881457479979\" y=\"507.5\"/><text font-size=\"20.0px\" style=\"font: italic sans-serif; fill: red;\" x=\"5.0\" y=\"521.0\">ENST00000634386</text><line stroke=\"rgb(0,0,0)\" stroke-width=\"2px\" x1=\"266.71149966375253\" x2=\"834.2972427706792\" y1=\"545.0\" y2=\"545.0\"/><rect height=\"15.0\" style=\"fill:rgb(0,0,0);stroke-width:3;stroke:none\" width=\"0.061135905117055245\" x=\"266.71149966375253\" y=\"537.5\"/><rect height=\"15.0\" style=\"fill:rgb(0,0,0);stroke-width:3;stroke:none\" width=\"0.061135905117055245\" x=\"266.71149966375253\" y=\"537.5\"/><rect height=\"15.0\" style=\"fill:rgb(0,0,0);stroke-width:3;stroke:none\" width=\"2.2987100324020275\" x=\"318.99492571987525\" y=\"537.5\"/><rect height=\"15.0\" style=\"fill:rgb(0,0,0);stroke-width:3;stroke:none\" width=\"2.2987100324020275\" x=\"318.99492571987525\" y=\"537.5\"/><rect height=\"15.0\" style=\"fill:rgb(0,0,0);stroke-width:3;stroke:none\" width=\"1.5283976279268359\" x=\"387.28373173564836\" y=\"537.5\"/><rect height=\"15.0\" style=\"fill:rgb(0,0,0);stroke-width:3;stroke:none\" width=\"1.5283976279268359\" x=\"387.28373173564836\" y=\"537.5\"/><rect height=\"15.0\" style=\"fill:rgb(0,0,0);stroke-width:3;stroke:none\" width=\"0.978174481873225\" x=\"395.0602188665403\" y=\"537.5\"/><rect height=\"15.0\" style=\"fill:rgb(0,0,0);stroke-width:3;stroke:none\" width=\"0.978174481873225\" x=\"395.0602188665403\" y=\"537.5\"/><rect height=\"15.0\" style=\"fill:rgb(0,0,0);stroke-width:3;stroke:none\" width=\"0.24454362046827782\" x=\"420.34602922296267\" y=\"537.5\"/><rect height=\"15.0\" style=\"fill:rgb(0,0,0);stroke-width:3;stroke:none\" width=\"0.24454362046827782\" x=\"420.34602922296267\" y=\"537.5\"/><rect height=\"15.0\" style=\"fill:rgb(0,0,0);stroke-width:3;stroke:none\" width=\"1.430580179739536\" x=\"762.3769639909519\" y=\"537.5\"/><rect height=\"15.0\" style=\"fill:rgb(0,0,0);stroke-width:3;stroke:none\" width=\"1.430580179739536\" x=\"762.3769639909519\" y=\"537.5\"/><rect height=\"15.0\" style=\"fill:rgb(0,0,0);stroke-width:3;stroke:none\" width=\"1.5283976279268927\" x=\"803.2035214281348\" y=\"537.5\"/><rect height=\"15.0\" style=\"fill:rgb(0,0,0);stroke-width:3;stroke:none\" width=\"0.4768600599131787\" x=\"803.2035214281348\" y=\"537.5\"/><rect height=\"15.0\" style=\"fill:rgb(0,0,0);stroke-width:3;stroke:none\" width=\"0.024454362046867573\" x=\"803.6926086690713\" y=\"537.5\"/><rect height=\"15.0\" style=\"fill:rgb(0,0,0);stroke-width:3;stroke:none\" width=\"1.039310386990337\" x=\"803.6926086690713\" y=\"537.5\"/><rect height=\"15.0\" style=\"fill:rgb(0,0,0);stroke-width:3;stroke:none\" width=\"5.905728434309481\" x=\"828.3915143363697\" y=\"537.5\"/><rect height=\"15.0\" style=\"fill:rgb(0,0,0);stroke-width:3;stroke:none\" width=\"5.905728434309481\" x=\"828.3915143363697\" y=\"537.5\"/><text font-size=\"20.0px\" style=\"font: italic sans-serif; fill: red;\" x=\"5.0\" y=\"551.0\">ENST00000635614</text><line stroke=\"rgb(0,0,0)\" stroke-width=\"2px\" x1=\"204.5485113407104\" x2=\"670.7464694014795\" y1=\"575.0\" y2=\"575.0\"/><rect height=\"15.0\" style=\"fill:rgb(0,0,0);stroke-width:3;stroke:none\" width=\"1.4305801797395645\" x=\"204.5485113407104\" y=\"567.5\"/><rect height=\"15.0\" style=\"fill:rgb(0,0,0);stroke-width:3;stroke:none\" width=\"0.20786207739806173\" x=\"204.5485113407104\" y=\"567.5\"/><rect height=\"15.0\" style=\"fill:rgb(0,0,0);stroke-width:3;stroke:none\" width=\"1.2104909213180974\" x=\"204.76860059913187\" y=\"567.5\"/><rect height=\"15.0\" style=\"fill:rgb(0,0,0);stroke-width:3;stroke:none\" width=\"0.02445436204683915\" x=\"204.76860059913187\" y=\"567.5\"/><rect height=\"15.0\" style=\"fill:rgb(0,0,0);stroke-width:3;stroke:none\" width=\"2.262028489331783\" x=\"212.30054410955555\" y=\"567.5\"/><rect height=\"15.0\" style=\"fill:rgb(0,0,0);stroke-width:3;stroke:none\" width=\"2.262028489331783\" x=\"212.30054410955555\" y=\"567.5\"/><rect height=\"15.0\" style=\"fill:rgb(0,0,0);stroke-width:3;stroke:none\" width=\"2.335391575472272\" x=\"238.9191171975301\" y=\"567.5\"/><rect height=\"15.0\" style=\"fill:rgb(0,0,0);stroke-width:3;stroke:none\" width=\"2.335391575472272\" x=\"238.9191171975301\" y=\"567.5\"/><rect height=\"15.0\" style=\"fill:rgb(0,0,0);stroke-width:3;stroke:none\" width=\"1.2104909213180974\" x=\"251.9166106254203\" y=\"567.5\"/><rect height=\"15.0\" style=\"fill:rgb(0,0,0);stroke-width:3;stroke:none\" width=\"1.2104909213180974\" x=\"251.9166106254203\" y=\"567.5\"/><rect height=\"15.0\" style=\"fill:rgb(0,0,0);stroke-width:3;stroke:none\" width=\"1.0393103869902802\" x=\"265.7333251818793\" y=\"567.5\"/><rect height=\"15.0\" style=\"fill:rgb(0,0,0);stroke-width:3;stroke:none\" width=\"1.0393103869902802\" x=\"265.7333251818793\" y=\"567.5\"/><rect height=\"15.0\" style=\"fill:rgb(0,0,0);stroke-width:3;stroke:none\" width=\"2.2987100324020275\" x=\"318.99492571987525\" y=\"567.5\"/><rect height=\"15.0\" style=\"fill:rgb(0,0,0);stroke-width:3;stroke:none\" width=\"2.2987100324020275\" x=\"318.99492571987525\" y=\"567.5\"/><rect height=\"15.0\" style=\"fill:rgb(0,0,0);stroke-width:3;stroke:none\" width=\"1.5283976279268359\" x=\"387.28373173564836\" y=\"567.5\"/><rect height=\"15.0\" style=\"fill:rgb(0,0,0);stroke-width:3;stroke:none\" width=\"1.5283976279268359\" x=\"387.28373173564836\" y=\"567.5\"/><rect height=\"15.0\" style=\"fill:rgb(0,0,0);stroke-width:3;stroke:none\" width=\"0.978174481873225\" x=\"395.0602188665403\" y=\"567.5\"/><rect height=\"15.0\" style=\"fill:rgb(0,0,0);stroke-width:3;stroke:none\" width=\"0.978174481873225\" x=\"395.0602188665403\" y=\"567.5\"/><rect height=\"15.0\" style=\"fill:rgb(0,0,0);stroke-width:3;stroke:none\" width=\"0.24454362046827782\" x=\"420.34602922296267\" y=\"567.5\"/><rect height=\"15.0\" style=\"fill:rgb(0,0,0);stroke-width:3;stroke:none\" width=\"0.24454362046827782\" x=\"420.34602922296267\" y=\"567.5\"/><rect height=\"15.0\" style=\"fill:rgb(0,0,0);stroke-width:3;stroke:none\" width=\"1.124900654154203\" x=\"598.9851439750565\" y=\"567.5\"/><rect height=\"15.0\" style=\"fill:rgb(0,0,0);stroke-width:3;stroke:none\" width=\"0.8559026716390008\" x=\"598.9851439750565\" y=\"567.5\"/><rect height=\"15.0\" style=\"fill:rgb(0,0,0);stroke-width:3;stroke:none\" width=\"0.024454362046753886\" x=\"599.853273827719\" y=\"567.5\"/><rect height=\"15.0\" style=\"fill:rgb(0,0,0);stroke-width:3;stroke:none\" width=\"0.2567708014917116\" x=\"599.853273827719\" y=\"567.5\"/><rect height=\"15.0\" style=\"fill:rgb(0,0,0);stroke-width:3;stroke:none\" width=\"4.03496973772701\" x=\"666.7114996637525\" y=\"567.5\"/><rect height=\"15.0\" style=\"fill:rgb(0,0,0);stroke-width:3;stroke:none\" width=\"4.03496973772701\" x=\"666.7114996637525\" y=\"567.5\"/><text font-size=\"20.0px\" style=\"font: italic sans-serif; fill: red;\" x=\"5.0\" y=\"581.0\">ENST00000644836</text><line stroke=\"rgb(0,0,0)\" stroke-width=\"2px\" x1=\"203.26465733325182\" x2=\"676.3709726722504\" y1=\"605.0\" y2=\"605.0\"/><rect height=\"15.0\" style=\"fill:rgb(0,0,0);stroke-width:3;stroke:none\" width=\"2.714434187198151\" x=\"203.26465733325182\" y=\"597.5\"/><rect height=\"15.0\" style=\"fill:rgb(0,0,0);stroke-width:3;stroke:none\" width=\"1.4917160848566482\" x=\"203.26465733325182\" y=\"597.5\"/><rect height=\"15.0\" style=\"fill:rgb(0,0,0);stroke-width:3;stroke:none\" width=\"1.2104909213180974\" x=\"204.76860059913187\" y=\"597.5\"/><rect height=\"15.0\" style=\"fill:rgb(0,0,0);stroke-width:3;stroke:none\" width=\"0.02445436204683915\" x=\"204.76860059913187\" y=\"597.5\"/><rect height=\"15.0\" style=\"fill:rgb(0,0,0);stroke-width:3;stroke:none\" width=\"2.262028489331783\" x=\"212.30054410955555\" y=\"597.5\"/><rect height=\"15.0\" style=\"fill:rgb(0,0,0);stroke-width:3;stroke:none\" width=\"2.262028489331783\" x=\"212.30054410955555\" y=\"597.5\"/><rect height=\"15.0\" style=\"fill:rgb(0,0,0);stroke-width:3;stroke:none\" width=\"2.335391575472272\" x=\"238.9191171975301\" y=\"597.5\"/><rect height=\"15.0\" style=\"fill:rgb(0,0,0);stroke-width:3;stroke:none\" width=\"2.335391575472272\" x=\"238.9191171975301\" y=\"597.5\"/><rect height=\"15.0\" style=\"fill:rgb(0,0,0);stroke-width:3;stroke:none\" width=\"1.2104909213180974\" x=\"251.9166106254203\" y=\"597.5\"/><rect height=\"15.0\" style=\"fill:rgb(0,0,0);stroke-width:3;stroke:none\" width=\"1.2104909213180974\" x=\"251.9166106254203\" y=\"597.5\"/><rect height=\"15.0\" style=\"fill:rgb(0,0,0);stroke-width:3;stroke:none\" width=\"1.0393103869902802\" x=\"265.7333251818793\" y=\"597.5\"/><rect height=\"15.0\" style=\"fill:rgb(0,0,0);stroke-width:3;stroke:none\" width=\"1.0393103869902802\" x=\"265.7333251818793\" y=\"597.5\"/><rect height=\"15.0\" style=\"fill:rgb(0,0,0);stroke-width:3;stroke:none\" width=\"2.2987100324020275\" x=\"318.99492571987525\" y=\"597.5\"/><rect height=\"15.0\" style=\"fill:rgb(0,0,0);stroke-width:3;stroke:none\" width=\"2.2987100324020275\" x=\"318.99492571987525\" y=\"597.5\"/><rect height=\"15.0\" style=\"fill:rgb(0,0,0);stroke-width:3;stroke:none\" width=\"1.5283976279268359\" x=\"387.28373173564836\" y=\"597.5\"/><rect height=\"15.0\" style=\"fill:rgb(0,0,0);stroke-width:3;stroke:none\" width=\"1.5283976279268359\" x=\"387.28373173564836\" y=\"597.5\"/><rect height=\"15.0\" style=\"fill:rgb(0,0,0);stroke-width:3;stroke:none\" width=\"0.978174481873225\" x=\"395.0602188665403\" y=\"597.5\"/><rect height=\"15.0\" style=\"fill:rgb(0,0,0);stroke-width:3;stroke:none\" width=\"0.978174481873225\" x=\"395.0602188665403\" y=\"597.5\"/><rect height=\"15.0\" style=\"fill:rgb(0,0,0);stroke-width:3;stroke:none\" width=\"0.24454362046827782\" x=\"420.34602922296267\" y=\"597.5\"/><rect height=\"15.0\" style=\"fill:rgb(0,0,0);stroke-width:3;stroke:none\" width=\"0.24454362046827782\" x=\"420.34602922296267\" y=\"597.5\"/><rect height=\"15.0\" style=\"fill:rgb(0,0,0);stroke-width:3;stroke:none\" width=\"1.3938986366692916\" x=\"518.7748364614538\" y=\"597.5\"/><rect height=\"15.0\" style=\"fill:rgb(0,0,0);stroke-width:3;stroke:none\" width=\"1.3938986366692916\" x=\"518.7748364614538\" y=\"597.5\"/><rect height=\"15.0\" style=\"fill:rgb(0,0,0);stroke-width:3;stroke:none\" width=\"9.659473008497912\" x=\"666.7114996637525\" y=\"597.5\"/><rect height=\"15.0\" style=\"fill:rgb(0,0,0);stroke-width:3;stroke:none\" width=\"1.4672617228097806\" x=\"666.7114996637525\" y=\"597.5\"/><rect height=\"15.0\" style=\"fill:rgb(0,0,0);stroke-width:3;stroke:none\" width=\"0.024454362046867573\" x=\"668.1909885675857\" y=\"597.5\"/><rect height=\"15.0\" style=\"fill:rgb(0,0,0);stroke-width:3;stroke:none\" width=\"8.179984104664754\" x=\"668.1909885675857\" y=\"597.5\"/><text font-size=\"20.0px\" style=\"font: italic sans-serif; fill: red;\" x=\"5.0\" y=\"611.0\">ENST00000645323</text></svg>"
      ],
      "text/plain": [
       "<IPython.core.display.SVG object>"
      ]
     },
     "execution_count": 8,
     "metadata": {},
     "output_type": "execute_result"
    }
   ],
   "source": [
    "### Check our favourite genes, global pileup\n",
    "v = cp.getView(\"CD55\")\n",
    "\n",
    "cp.pileup(v, \n",
    "          cellBC=adata.obs[\"origbc\"].tolist(),  # subset on cell BCs\n",
    "          cellFile=adata.obs[\"sampleid\"].tolist(), \n",
    "          cellCluster=adata.obs[\"leiden\"].tolist()  # Split into different tracks for clusters\n",
    "         ).plot()\n"
   ]
  },
  {
   "cell_type": "code",
   "execution_count": 9,
   "metadata": {
    "scrolled": false
   },
   "outputs": [],
   "source": [
    "\n",
    "\n",
    "# # Test categorical 3D umap\n",
    "# import scherlock\n",
    "# scherlock.plot.plot_3d_umap_categorical(adata, \"leiden\")\n",
    "# #scherlock.plot.plot_3d_umap_categorical(adata, \"cellcycle\", \n",
    "# #                         palette=['cornflowerblue', 'lemonchiffon', 'brown'])"
   ]
  },
  {
   "cell_type": "code",
   "execution_count": null,
   "metadata": {},
   "outputs": [],
   "source": []
  }
 ],
 "metadata": {
  "kernelspec": {
   "display_name": "Python 3",
   "language": "python",
   "name": "python3"
  },
  "language_info": {
   "codemirror_mode": {
    "name": "ipython",
    "version": 3
   },
   "file_extension": ".py",
   "mimetype": "text/x-python",
   "name": "python",
   "nbconvert_exporter": "python",
   "pygments_lexer": "ipython3",
   "version": "3.7.4"
  }
 },
 "nbformat": 4,
 "nbformat_minor": 2
}
